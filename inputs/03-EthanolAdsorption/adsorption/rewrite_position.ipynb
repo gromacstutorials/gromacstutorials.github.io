{
 "cells": [
  {
   "cell_type": "code",
   "execution_count": 38,
   "metadata": {},
   "outputs": [],
   "source": [
    "import numpy as np\n",
    "file = open('metadata.dat', 'w')\n",
    "for pull in range(30):\n",
    "    # convert the xvg into a dat file\n",
    "    xtc_file = \"pull.\"+str(pull)+\"_pullx.xvg\"\n",
    "    data = np.loadtxt(xtc_file, skiprows=17)\n",
    "    # convert to Angstroms\n",
    "    data.T[1] *= 10\n",
    "    data_file = \"pull.\"+str(pull)+\"_pullx.dat\"\n",
    "    np.savetxt(data_file, data)\n",
    "    # write metadata file\n",
    "    x0 = 1.3*(pull+1) # rest distance for the harmonic potential (Angstrom)\n",
    "    file.write(data_file + ' ' + str(np.round(x0,2)) + ' 1.5\\n')\n",
    "file.close()\n"
   ]
  }
 ],
 "metadata": {
  "kernelspec": {
   "display_name": "Python 3.8.10 64-bit",
   "language": "python",
   "name": "python3"
  },
  "language_info": {
   "codemirror_mode": {
    "name": "ipython",
    "version": 3
   },
   "file_extension": ".py",
   "mimetype": "text/x-python",
   "name": "python",
   "nbconvert_exporter": "python",
   "pygments_lexer": "ipython3",
   "version": "3.8.10"
  },
  "vscode": {
   "interpreter": {
    "hash": "916dbcbb3f70747c44a77c7bcd40155683ae19c65e1c03b4aa3499c5328201f1"
   }
  }
 },
 "nbformat": 4,
 "nbformat_minor": 4
}
