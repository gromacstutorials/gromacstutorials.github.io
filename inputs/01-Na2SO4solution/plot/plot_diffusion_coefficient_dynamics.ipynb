{
 "cells": [
  {
   "cell_type": "code",
   "execution_count": null,
   "metadata": {},
   "outputs": [],
   "source": [
    "import copy\n",
    "import numpy as np\n",
    "from matplotlib import pyplot as plt\n",
    "from matplotlib.ticker import AutoMinorLocator\n",
    "from mpl_toolkits.axes_grid1 import make_axes_locatable"
   ]
  },
  {
   "cell_type": "code",
   "execution_count": null,
   "metadata": {},
   "outputs": [],
   "source": [
    "plt.rcParams.update({\n",
    "    \"text.usetex\": True,\n",
    "    \"font.family\": \"serif\",\n",
    "    \"font.serif\": [\"Palatino\"],\n",
    "})"
   ]
  },
  {
   "cell_type": "code",
   "execution_count": null,
   "metadata": {},
   "outputs": [],
   "source": [
    "fontsize = 25\n",
    "font = {'family': 'sans', 'color':  'black', 'weight': 'normal', 'size': fontsize}\n",
    "myblack = [0.1,0.1,0.1]\n",
    "myblue = [0, 0.2, 1]\n",
    "mygrayblue = [0.5, 0.5, 1]\n",
    "mygray = [0.5, 0.5, 0.5]\n",
    "myred = [1, 0, 0]\n",
    "myblue2 = [23/ 255, 63/ 255, 143/ 255]\n",
    "myshade = list(np.zeros(8))\n",
    "for i in range(8):\n",
    "    myshade[i] = [i/32, i/32, i/8]\n",
    "my_color_1 = np.array([23,63,143])/255\n",
    "my_color_2 = np.array([60,174,163])/255\n",
    "my_color_3 = np.array([255,130,85])/255\n",
    "my_color_4 = np.array([215,0,0])/255\n",
    "my_color_5 = np.array([150,150,150])/255"
   ]
  },
  {
   "cell_type": "code",
   "execution_count": null,
   "metadata": {},
   "outputs": [],
   "source": [
    "SO4 = np.loadtxt('SO4.xvg')\n",
    "Na = np.loadtxt('Na.xvg')\n",
    "H2O = np.loadtxt('H2O.xvg')"
   ]
  },
  {
   "cell_type": "code",
   "execution_count": null,
   "metadata": {},
   "outputs": [],
   "source": [
    "\n",
    "    \n",
    "    # save frame\n",
    "    plt.savefig(filename)\n",
    "    plt.close()\n",
    "# build gif\n",
    "with imageio.get_writer('mygif.gif', mode='I') as writer:\n",
    "    for filename in filenames:\n",
    "        image = imageio.imread(filename)\n",
    "        writer.append_data(image)\n",
    "        \n",
    "# Remove files\n",
    "for filename in set(filenames):\n",
    "    os.remove(filename)"
   ]
  },
  {
   "cell_type": "code",
   "execution_count": 21,
   "metadata": {},
   "outputs": [],
   "source": [
    "filenames = []\n",
    "j = 0\n",
    "for i in np.arange(0, len(SO4.T[1]), 5):\n",
    "    # plot the line chart\n",
    "\n",
    "    \n",
    "    # create file name and append it to a list\n",
    "    filename = 'gif/'+f'{j}.png'\n",
    "    filenames.append(filename)\n",
    "    j += 1\n",
    "\n",
    "    fig = plt.figure(figsize=(6, 6))\n",
    "\n",
    "\n",
    "    ax1 = fig.add_subplot(111)\n",
    "    plt.plot(SO4.T[0][:i]*0.001*1000, SO4.T[1][:i], linewidth = 2) # ,  label=r'H$_2$O') \n",
    "    #plt.plot(Na.T[0]*0.001*1000, Na.T[1], linewidth = 2, label=r'Na$^{+}$') \n",
    "    #plt.plot(SO4.T[0]*0.001*1000, SO4.T[1], linewidth = 2, label=r'SO$_4^{2-}$')\n",
    "    divider = make_axes_locatable(ax1)\n",
    "    ax1.set_xlabel('time (ps)', fontdict=font)\n",
    "    ax1.set_ylabel('MSD (nm$^2$)', fontdict=font)\n",
    "    plt.xticks(fontsize=fontsize)\n",
    "    plt.yticks(fontsize=fontsize)\n",
    "    #plt.xlim(-50, 1000)\n",
    "    ax1.minorticks_on()\n",
    "    ax1.tick_params('both', length=10, width=2, which='major', direction='in')\n",
    "    ax1.tick_params('both', length=6, width=1.4, which='minor', direction='in')\n",
    "    ax1.xaxis.set_ticks_position('both')\n",
    "    ax1.yaxis.set_ticks_position('both')\n",
    "    ax1.spines[\"top\"].set_linewidth(2)\n",
    "    ax1.spines[\"bottom\"].set_linewidth(2)\n",
    "    ax1.spines[\"left\"].set_linewidth(2)\n",
    "    ax1.spines[\"right\"].set_linewidth(2)\n",
    "    ax1.set_xticks([0, 50, 100, 150, 200])\n",
    "    ax1.set_yticks([0, 0.5, 1, 1.5, 2])\n",
    "    plt.xlim(0, 200)\n",
    "    plt.ylim(0, 2)\n",
    "    #labels = ['$1.3$', '$1.4$', '$1.5$', '$1.6$', '$1.7$']\n",
    "    #ax1.set_yticklabels(labels)\n",
    "    minor_locator_y = AutoMinorLocator(2)\n",
    "    ax1.yaxis.set_minor_locator(minor_locator_y)\n",
    "    minor_locator_x = AutoMinorLocator(2)\n",
    "    ax1.xaxis.set_minor_locator(minor_locator_x)\n",
    "    #ax1.legend(frameon=False, fontsize=fontsize, \n",
    "    #        loc='upper left', handletextpad=0.5,\n",
    "    #        handlelength = 0.8, borderpad = 0.3, \n",
    "    #        labelspacing=0.3) \n",
    "    fig.tight_layout()\n",
    "    plt.savefig(filename)\n",
    "    plt.close()"
   ]
  },
  {
   "cell_type": "code",
   "execution_count": null,
   "metadata": {},
   "outputs": [],
   "source": []
  }
 ],
 "metadata": {
  "kernelspec": {
   "display_name": "Python 3.8.10 64-bit",
   "language": "python",
   "name": "python3"
  },
  "language_info": {
   "codemirror_mode": {
    "name": "ipython",
    "version": 3
   },
   "file_extension": ".py",
   "mimetype": "text/x-python",
   "name": "python",
   "nbconvert_exporter": "python",
   "pygments_lexer": "ipython3",
   "version": "3.8.10"
  },
  "vscode": {
   "interpreter": {
    "hash": "916dbcbb3f70747c44a77c7bcd40155683ae19c65e1c03b4aa3499c5328201f1"
   }
  }
 },
 "nbformat": 4,
 "nbformat_minor": 4
}
