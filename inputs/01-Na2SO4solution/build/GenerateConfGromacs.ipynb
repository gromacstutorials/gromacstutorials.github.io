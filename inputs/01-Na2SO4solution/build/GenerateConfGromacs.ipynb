{
 "cells": [
  {
   "cell_type": "code",
   "execution_count": 1,
   "metadata": {},
   "outputs": [],
   "source": [
    "import numpy as np\n",
    "import matplotlib.pyplot as plt\n",
    "import random\n",
    "import copy\n",
    "\n",
    "Na = 6.022e23 #constants.Avogadro\n",
    "Mh2o = 0.018053 # kg/mol - water\n",
    "\n",
    "N = 800 # total number of molecule + ions to get approx 7 nm between the two surfaces\n",
    "\n",
    "# desired concentration in mol/L\n",
    "c = 1.5\n",
    "nion = c*N*Mh2o/(3*(1+Mh2o*c)) # desired number for each ion\n",
    "nwater = N - 3*nion\n",
    "\n",
    "# choose the initial box dimention\n",
    "dSO4 = 5\n",
    "dw = 3.1\n",
    "\n",
    "Lx, Ly, Lz = dw*10, dw*10, dw*10\n"
   ]
  },
  {
   "cell_type": "code",
   "execution_count": 2,
   "metadata": {},
   "outputs": [],
   "source": [
    "txlo, txhi = 0, Lx\n",
    "tylo, tyhi = 0, Ly\n",
    "tzlo, tzhi = 0, Lz\n",
    "\n",
    "cptatom = 0\n",
    "cptbond = 0\n",
    "cptangle = 0\n",
    "cptmol = 0\n",
    "cptNa = 0\n",
    "cptH2O = 0\n",
    "cptS = 0\n",
    "cptres = 1\n",
    "nS = 0\n",
    "nNa = 0"
   ]
  },
  {
   "cell_type": "code",
   "execution_count": 3,
   "metadata": {},
   "outputs": [],
   "source": [
    "# allocate memory\n",
    "XYZ = np.zeros((1000000,3))\n",
    "Typ = [\"\" for x in range(1000000)]\n",
    "ResName = [\"\" for x in range(1000000)]\n",
    "ResNum = np.zeros((1000000,1))\n",
    "\n",
    "PosSO4 = np.array([[1.238,   0.587,   1.119], \\\n",
    "    [0.778,   1.501,  -1.263], \\\n",
    "    [-0.962,   1.866,   0.623], \\\n",
    "    [-0.592,  -0.506,  -0.358],\\\n",
    "    [0.115,   0.862,   0.030]])\n",
    "\n",
    "TypSO4 = ['O1', 'O2', 'O3', 'O4', 'S']"
   ]
  },
  {
   "cell_type": "code",
   "execution_count": 4,
   "metadata": {},
   "outputs": [],
   "source": [
    "# add SO4 randomly\n",
    "while nS < np.int32(nion):\n",
    "    x = random.randint(1,1000)/1000*(txhi-txlo)+txlo\n",
    "    y = random.randint(1,1000)/1000*(tyhi-tylo)+tylo\n",
    "    z = random.randint(1,1000)/1000*(tzhi-tzlo)+tzlo\n",
    "\n",
    "    d = 10\n",
    "    if cptatom > 0:\n",
    "        XYZrep = copy.deepcopy(XYZ[0:cptatom])\n",
    "        for xx in [-Lx,0,Lx]:\n",
    "            for yy in [-Ly,0,Ly]:\n",
    "                for zz in [-Lz,0,Lz]:\n",
    "                    XYZrep = np.append(XYZrep,XYZ[0:cptatom]+[xx,yy,zz], axis=0)\n",
    "        d = np.sqrt((x-XYZrep.T[0])**2+(y-XYZrep.T[1])**2+(z-XYZrep.T[2])**2)\n",
    "\n",
    "    if np.min(d) > 3:\n",
    "        for j in range(5):\n",
    "            XYZ[cptatom] = [x,y,z]+PosSO4[j]\n",
    "            Typ[cptatom] = TypSO4[j]\n",
    "            ResNum[cptatom] = cptres\n",
    "            ResName[cptatom] = 'SO4'\n",
    "            cptatom += 1  \n",
    "        nS += 1\n",
    "        cptS += 1\n",
    "        cptres += 1"
   ]
  },
  {
   "cell_type": "code",
   "execution_count": 5,
   "metadata": {},
   "outputs": [],
   "source": [
    "# add Na randomly\n",
    "while nNa < np.int32(nion)*2:\n",
    "    x = random.randint(1,1000)/1000*(txhi-txlo)+txlo\n",
    "    y = random.randint(1,1000)/1000*(tyhi-tylo)+tylo\n",
    "    z = random.randint(1,1000)/1000*(tzhi-tzlo)+tzlo\n",
    "\n",
    "    d = 10\n",
    "    if cptatom > 0:\n",
    "        XYZrep = copy.deepcopy(XYZ[0:cptatom])\n",
    "        for xx in [-Lx,0,Lx]:\n",
    "            for yy in [-Ly,0,Ly]:\n",
    "                for zz in [-Lz,0,Lz]:\n",
    "                    XYZrep = np.append(XYZrep,XYZ[0:cptatom]+[xx,yy,zz], axis=0)\n",
    "        d = np.sqrt((x-XYZrep.T[0])**2+(y-XYZrep.T[1])**2+(z-XYZrep.T[2])**2)\n",
    "    if np.min(d) > 3:\n",
    "        XYZ[cptatom] = [x,y,z]\n",
    "        Typ[cptatom] = 'Na'\n",
    "        ResNum[cptatom] = cptres\n",
    "        ResName[cptatom] = 'Na'\n",
    "        cptatom += 1   \n",
    "        nNa += 1\n",
    "        cptres += 1\n",
    "        cptNa += 1"
   ]
  },
  {
   "cell_type": "code",
   "execution_count": 6,
   "metadata": {},
   "outputs": [],
   "source": [
    "cptH2O = 0\n",
    "# create water\n",
    "PosH2O = np.array([[0, 0, 0], \\\n",
    "        [0.05858,   0.0757, 0.0], \\\n",
    "        [0.05858,   -0.0757,  0.0], \\\n",
    "        [0.0104,  0.0, 0.0]])*10\n",
    "\n",
    "XYZrep = copy.deepcopy(XYZ[0:cptatom])\n",
    "for xx in [-Lx,0,Lx]:\n",
    "    for yy in [-Ly,0,Ly]:\n",
    "        for zz in [-Lz,0,Lz]:\n",
    "            XYZrep = np.append(XYZrep,XYZ[0:cptatom]+[xx,yy,zz], axis=0)\n",
    "\n",
    "TypH2O = ['OW', 'HW1', 'HW2', 'MW']\n",
    "for x in np.arange(txlo+dw/2,txhi,dw):\n",
    "    for y in np.arange(tylo+dw/2,tyhi,dw):\n",
    "        for z in np.arange(tzlo+dw/2,tzhi,dw):\n",
    "\n",
    "            d = np.sqrt((x-XYZrep.T[0])**2+(y-XYZrep.T[1])**2+(z-XYZrep.T[2])**2)\n",
    "\n",
    "            if np.min(d) > dw:\n",
    "                for j in range(4):\n",
    "                    XYZ[cptatom] = [x,y,z]+np.array(PosH2O[j])\n",
    "                    Typ[cptatom] = TypH2O[j]\n",
    "                    ResNum[cptatom] = cptres\n",
    "                    ResName[cptatom] = 'SOL'\n",
    "                    cptatom += 1    \n",
    "                cptH2O += 1\n",
    "                cptres += 1"
   ]
  },
  {
   "cell_type": "code",
   "execution_count": 7,
   "metadata": {},
   "outputs": [
    {
     "name": "stdout",
     "output_type": "stream",
     "text": [
      "Lx = 3.1 nm, Ly = 3.1 nm, Lz = 3.1 nm\n",
      "14 Na ions in electrolyte\n",
      "7 SO4 ions in electrolyte\n",
      "875 water molecules\n",
      "The initial ion concentration is 1.3333333333333335 M\n"
     ]
    }
   ],
   "source": [
    "print('Lx = '+str(Lx/10)+' nm, Ly = '+str(Ly/10)+' nm, Lz = '+str(Lz/10)+' nm')\n",
    "print(str(nNa)+' Na ions in electrolyte') \n",
    "print(str(nS)+' SO4 ions in electrolyte')\n",
    "print(str(cptH2O)+' water molecules')\n",
    "\n",
    "Vwater = cptH2O/6.022e23*0.018 # kg or litter\n",
    "Naddion = (nS+nNa)/6.022e23 # mol\n",
    "cion = Naddion/Vwater\n",
    "print('The initial ion concentration is '+str(cion)+' M')"
   ]
  },
  {
   "cell_type": "code",
   "execution_count": 8,
   "metadata": {},
   "outputs": [],
   "source": [
    "\n",
    "# write conf.gro\n",
    "f = open('../conf.gro', 'w')\n",
    "f.write('SO4- Na2+ solution\\n')\n",
    "f.write(str(cptatom)+'\\n')\n",
    "for n in range(cptatom):\n",
    "    f.write(\"{: >5}\".format(str(np.int32(ResNum[n][0])))) # residue number (5 positions, integer) \n",
    "    f.write(\"{: >5}\".format(str(ResName[n]))) # residue name (5 characters) \n",
    "    f.write(\"{: >5}\".format(str(Typ[n]))) # atom name (5 characters) \n",
    "    f.write(\"{: >5}\".format(str(np.int32(n+1)))) # atom number (5 positions, integer)\n",
    "    f.write(\"{: >8}\".format(str(\"{:.3f}\".format(XYZ[n][0]/10)))) # position (in nm, x y z in 3 columns, each 8 positions with 3 decimal places)\n",
    "    f.write(\"{: >8}\".format(str(\"{:.3f}\".format(XYZ[n][1]/10)))) # position (in nm, x y z in 3 columns, each 8 positions with 3 decimal places) \n",
    "    f.write(\"{: >8}\".format(str(\"{:.3f}\".format(XYZ[n][2]/10)))) # position (in nm, x y z in 3 columns, each 8 positions with 3 decimal places) \n",
    "    f.write(\"\\n\")\n",
    "f.write(\"{: >10}\".format(str(\"{:.5f}\".format(Lx/10))))\n",
    "f.write(\"{: >10}\".format(str(\"{:.5f}\".format(Ly/10))))\n",
    "f.write(\"{: >10}\".format(str(\"{:.5f}\".format(Lz/10))))\n",
    "f.close()"
   ]
  },
  {
   "cell_type": "code",
   "execution_count": 9,
   "metadata": {},
   "outputs": [],
   "source": [
    "# write topol.top\n",
    "f = open('../topol.top', 'w')\n",
    "f.write('#include \"ff/forcefield.itp\"\\n')\n",
    "f.write('#include \"ff/h2o.itp\"\\n')\n",
    "f.write('#include \"ff/na.itp\"\\n')\n",
    "f.write('#include \"ff/so4.itp\"\\n\\n')\n",
    "f.write('[ System ]\\n')\n",
    "f.write('SO4- Na2+ solution\\n\\n')\n",
    "f.write('[ Molecules ]\\n\\n')\n",
    "f.write('SO4 '+ str(cptS)+'\\n')\n",
    "f.write('Na '+ str(cptNa)+'\\n')\n",
    "f.write('SOL '+ str(cptH2O)+'\\n')\n",
    "f.close()"
   ]
  }
 ],
 "metadata": {
  "kernelspec": {
   "display_name": "Python 3.8.10 64-bit",
   "language": "python",
   "name": "python3"
  },
  "language_info": {
   "codemirror_mode": {
    "name": "ipython",
    "version": 3
   },
   "file_extension": ".py",
   "mimetype": "text/x-python",
   "name": "python",
   "nbconvert_exporter": "python",
   "pygments_lexer": "ipython3",
   "version": "3.8.10"
  },
  "vscode": {
   "interpreter": {
    "hash": "916dbcbb3f70747c44a77c7bcd40155683ae19c65e1c03b4aa3499c5328201f1"
   }
  }
 },
 "nbformat": 4,
 "nbformat_minor": 2
}
