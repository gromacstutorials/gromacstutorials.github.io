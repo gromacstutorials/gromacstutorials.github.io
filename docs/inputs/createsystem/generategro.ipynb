{
 "cells": [
  {
   "cell_type": "code",
   "execution_count": 51,
   "metadata": {},
   "outputs": [],
   "source": [
    "import numpy as np\n",
    "from molecules import SO4_ion, Na_ion, H20_molecule\n",
    "from utils import generate_random_location, search_closest_neighbor"
   ]
  },
  {
   "cell_type": "code",
   "execution_count": 53,
   "metadata": {},
   "outputs": [],
   "source": [
    "dw = 3.1 # typical water-water interdistance in Angstrom\n",
    "Lx, Ly, Lz = [36]*3 # initial box size\n",
    "box = np.array([Lx, Ly, Lz])"
   ]
  },
  {
   "cell_type": "code",
   "execution_count": 54,
   "metadata": {},
   "outputs": [],
   "source": [
    "Mh2o = 0.018053 # kg/mol - water\n",
    "N = 800 # total number of molecule + ions to get approx 7 nm between the two surfaces\n",
    "c = 1.5 # desired initial concentration in mol/L\n",
    "nion = c*N*Mh2o/(3*(1+Mh2o*c)) # desired number for the SO4 ion\n",
    "nwater = N - 3*nion\n",
    "dSO4 = 4.5\n",
    "dNa = 2.8\n",
    "dSol = 2.8"
   ]
  },
  {
   "cell_type": "code",
   "execution_count": 55,
   "metadata": {},
   "outputs": [],
   "source": [
    "cpt_residue = 0\n",
    "cpt_atoms = 0\n",
    "cpt_SO4 = 0\n",
    "cpt_Na = 0\n",
    "cpt_Sol = 0\n",
    "all_positions = []\n",
    "all_resnum = []\n",
    "all_resname = []\n",
    "all_atname = []\n",
    "all_attype = []"
   ]
  },
  {
   "cell_type": "code",
   "execution_count": 57,
   "metadata": {},
   "outputs": [],
   "source": [
    "# add SO4 randomly\n",
    "Positions, Types, Resname = SO4_ion()\n",
    "while cpt_SO4 < np.int32(nion):\n",
    "    x_com, y_com, z_com = generate_random_location(Lx, Ly, Lz)\n",
    "    d = search_closest_neighbor(np.array(all_positions), Positions + np.array([x_com, y_com, z_com]), box)\n",
    "    if d < dSO4:\n",
    "        add_residue = False\n",
    "    else:\n",
    "        add_residue = True\n",
    "    if add_residue == True:\n",
    "        cpt_SO4 += 1\n",
    "        cpt_residue += 1\n",
    "        for position, type in zip(Positions, Types):\n",
    "            cpt_atoms += 1\n",
    "            x_at, y_at, z_at = position\n",
    "            all_positions.append([x_com+x_at, y_com+y_at, z_com+z_at])\n",
    "            all_resnum.append(cpt_residue)\n",
    "            all_resname.append(Resname)\n",
    "            all_atname.append(type)\n",
    "            all_attype.append(type) # do better"
   ]
  },
  {
   "cell_type": "code",
   "execution_count": 58,
   "metadata": {},
   "outputs": [],
   "source": [
    "# add Na randomly\n",
    "Positions, Types, Resname = Na_ion()\n",
    "while cpt_Na < np.int32(nion*2):\n",
    "    x_com, y_com, z_com = generate_random_location(Lx, Ly, Lz)\n",
    "    d = search_closest_neighbor(np.array(all_positions), Positions + np.array([x_com, y_com, z_com]), box)\n",
    "    if d < dNa:\n",
    "        add_residue = False\n",
    "    else:\n",
    "        add_residue = True\n",
    "    if add_residue == True:\n",
    "        cpt_Na += 1\n",
    "        cpt_residue += 1\n",
    "        for position, type in zip(Positions, Types):\n",
    "            cpt_atoms += 1\n",
    "            x_at, y_at, z_at = position\n",
    "            all_positions.append([x_com+x_at, y_com+y_at, z_com+z_at])\n",
    "            all_resnum.append(cpt_residue)\n",
    "            all_resname.append(Resname)\n",
    "            all_atname.append(type)\n",
    "            all_attype.append(type) # do better"
   ]
  },
  {
   "cell_type": "code",
   "execution_count": 59,
   "metadata": {},
   "outputs": [
    {
     "name": "stdout",
     "output_type": "stream",
     "text": [
      "774 out of 778 water molecules created\n"
     ]
    }
   ],
   "source": [
    "# add water randomly\n",
    "Positions, Types, Resname = H20_molecule()\n",
    "for x_com in np.arange(dSol/2, Lx-dSol/2, dSol):\n",
    "    for y_com in np.arange(dSol/2, Ly-dSol/2, dSol):\n",
    "        for z_com in np.arange(dSol/2, Lz-dSol/2, dSol):\n",
    "            d = search_closest_neighbor(np.array(all_positions), Positions + np.array([x_com, y_com, z_com]), box)\n",
    "            if d < dSol:\n",
    "                add_residue = False\n",
    "            else:\n",
    "                add_residue = True\n",
    "            if (add_residue == True) & (cpt_Sol < np.int32(nwater)):\n",
    "                cpt_Sol += 1\n",
    "                cpt_residue += 1\n",
    "                for position, type in zip(Positions, Types):\n",
    "                    cpt_atoms += 1\n",
    "                    x_at, y_at, z_at = position\n",
    "                    all_positions.append([x_com+x_at, y_com+y_at, z_com+z_at])\n",
    "                    all_resnum.append(cpt_residue)\n",
    "                    all_resname.append(Resname)\n",
    "                    all_atname.append(type)\n",
    "                    all_attype.append(type) # do better\n",
    "            if cpt_Sol >= np.int32(nwater):\n",
    "                break\n",
    "print(cpt_Sol, 'out of', np.int32(nwater), 'water molecules created')"
   ]
  },
  {
   "cell_type": "code",
   "execution_count": 60,
   "metadata": {},
   "outputs": [
    {
     "name": "stdout",
     "output_type": "stream",
     "text": [
      "Lx = 3.6 nm, Ly = 3.6 nm, Lz = 3.6 nm\n",
      "14 Na ions\n",
      "7 SO4 ions\n",
      "774 Sol mols\n",
      "The ion concentration is 1.51 mol per litter\n"
     ]
    }
   ],
   "source": [
    "print('Lx = '+str(Lx/10)+' nm, Ly = '+str(Ly/10)+' nm, Lz = '+str(Lz/10)+' nm')\n",
    "print(str(cpt_Na)+' Na ions') \n",
    "print(str(cpt_SO4)+' SO4 ions')\n",
    "print(str(cpt_Sol)+' Sol mols')\n",
    "Vwater = cpt_Sol/6.022e23*0.018 # kg or litter\n",
    "Naddion = (cpt_Na+cpt_SO4)/6.022e23 # mol\n",
    "cion = Naddion/Vwater\n",
    "print('The ion concentration is '+str(np.round(cion,2))+' mol per litter')"
   ]
  },
  {
   "cell_type": "code",
   "execution_count": 68,
   "metadata": {},
   "outputs": [],
   "source": [
    "# write conf.gro\n",
    "f = open('conf.gro', 'w')\n",
    "f.write('Na2SO4 solution\\n')\n",
    "f.write(str(cpt_atoms)+'\\n')\n",
    "cpt = 0\n",
    "for resnum, resname, attype, position  in zip(all_resnum, all_resname, all_attype, all_positions):\n",
    "    x, y, z = position\n",
    "    cpt += 1\n",
    "    f.write(\"{: >5}\".format(str(resnum))) # residue number (5 positions, integer) \n",
    "    f.write(\"{: >5}\".format(resname)) # residue name (5 characters) \n",
    "    f.write(\"{: >5}\".format(attype)) # atom name (5 characters) \n",
    "    f.write(\"{: >5}\".format(str(cpt))) # atom number (5 positions, integer)\n",
    "    f.write(\"{: >8}\".format(str(\"{:.3f}\".format(x/10)))) # position (in nm, x y z in 3 columns, each 8 positions with 3 decimal places)\n",
    "    f.write(\"{: >8}\".format(str(\"{:.3f}\".format(y/10)))) # position (in nm, x y z in 3 columns, each 8 positions with 3 decimal places) \n",
    "    f.write(\"{: >8}\".format(str(\"{:.3f}\".format(z/10)))) # position (in nm, x y z in 3 columns, each 8 positions with 3 decimal places) \n",
    "    f.write(\"\\n\")\n",
    "f.write(\"{: >10}\".format(str(\"{:.5f}\".format(Lx/10)))) # box size\n",
    "f.write(\"{: >10}\".format(str(\"{:.5f}\".format(Ly/10)))) # box size\n",
    "f.write(\"{: >10}\".format(str(\"{:.5f}\".format(Lz/10)))) # box size\n",
    "f.write(\"\\n\")\n",
    "f.close()"
   ]
  },
  {
   "cell_type": "code",
   "execution_count": 69,
   "metadata": {},
   "outputs": [],
   "source": [
    "# write topol.top\n",
    "f = open('topol.top', 'w')\n",
    "f.write('#include \"ff/forcefield.itp\"\\n')\n",
    "f.write('#include \"ff/h2o.itp\"\\n')\n",
    "f.write('#include \"ff/na.itp\"\\n')\n",
    "f.write('#include \"ff/so4.itp\"\\n\\n')\n",
    "f.write('[ System ]\\n')\n",
    "f.write('Na2SO4 solution\\n\\n')\n",
    "f.write('[ Molecules ]\\n')\n",
    "f.write('SO4 '+ str(cpt_SO4)+'\\n')\n",
    "f.write('Na '+ str(cpt_Na)+'\\n')\n",
    "f.write('SOL '+ str(cpt_Sol)+'\\n')\n",
    "f.close()"
   ]
  }
 ],
 "metadata": {
  "kernelspec": {
   "display_name": "Python 3.8.10 64-bit",
   "language": "python",
   "name": "python3"
  },
  "language_info": {
   "codemirror_mode": {
    "name": "ipython",
    "version": 3
   },
   "file_extension": ".py",
   "mimetype": "text/x-python",
   "name": "python",
   "nbconvert_exporter": "python",
   "pygments_lexer": "ipython3",
   "version": "3.10.7"
  },
  "vscode": {
   "interpreter": {
    "hash": "916dbcbb3f70747c44a77c7bcd40155683ae19c65e1c03b4aa3499c5328201f1"
   }
  }
 },
 "nbformat": 4,
 "nbformat_minor": 2
}
